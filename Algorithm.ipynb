{
 "cells": [
  {
   "cell_type": "code",
   "execution_count": 2,
   "metadata": {},
   "outputs": [],
   "source": [
    "import numpy as np"
   ]
  },
  {
   "cell_type": "code",
   "execution_count": 24,
   "metadata": {},
   "outputs": [],
   "source": [
    "#[[front=blue], [right=red], [top=yellow], [back=green], [left=orange], [down=white]]\n",
    "cube = [['b', 'b', 'b', 'b', 'b', 'b', 'b', 'b', 'b'], \n",
    "        ['r', 'r', 'r', 'r', 'r', 'r', 'r', 'r', 'r'], \n",
    "        ['y', 'y', 'y', 'y', 'y', 'y', 'y', 'y', 'y'], \n",
    "        ['g', 'g', 'g', 'g', 'g', 'g', 'g', 'g', 'g'], \n",
    "        ['o', 'o', 'o', 'o', 'o', 'o', 'o', 'o', 'o'], \n",
    "        ['w', 'w', 'w', 'w', 'w', 'w', 'w', 'w', 'w']]"
   ]
  },
  {
   "cell_type": "code",
   "execution_count": 41,
   "metadata": {},
   "outputs": [],
   "source": [
    "moves = []"
   ]
  },
  {
   "cell_type": "code",
   "execution_count": 23,
   "metadata": {},
   "outputs": [],
   "source": [
    "def move(go):\n",
    "    if go == \"F\":\n",
    "        cube[2][6], cube[2][7], cube[2][8], cube[1][0], cube[1][3], cube[1][6], cube[5][0], cube[5][1], cube[5][2], cube[4][2], cube[4][5], cube[4][8] = cube[4][8], cube[4][5], cube[4][2], cube[2][6], cube[2][7], cube[2][8], cube[1][6], cube[1][3], cube[1][0], cube[5][0], cube[5][1], cube[5][2]\n",
    "        cube[0][0], cube[0][1], cube[0][2], cube[0][3], cube[0][5], cube[0][6], cube[0][7], cube[0][8] = cube[0][6], cube[0][3], cube[0][0], cube[0][7], cube[0][1], cube[0][8], cube[0][5], cube[0][2]  \n",
    "    elif go == \"F'\":\n",
    "        cube[2][6], cube[2][7], cube[2][8], cube[1][0], cube[1][3], cube[1][6], cube[5][0], cube[5][1], cube[5][2], cube[4][2], cube[4][5], cube[4][8] = cube[1][0], cube[1][3], cube[1][6], cube[5][2], cube[5][1], cube[5][0], cube[4][2], cube[4][5], cube[4][8], cube[2][8], cube[2][7], cube[2][6]\n",
    "        cube[0][0], cube[0][1], cube[0][2], cube[0][3], cube[0][5], cube[0][6], cube[0][7], cube[0][8] = cube[0][2], cube[0][5], cube[0][8], cube[0][1], cube[0][7], cube[0][0], cube[0][3], cube[0][6]  \n",
    "    elif go == \"F2\":\n",
    "        cube[2][6], cube[2][7], cube[2][8], cube[1][0], cube[1][3], cube[1][6], cube[5][0], cube[5][1], cube[5][2], cube[4][2], cube[4][5], cube[4][8] = cube[5][2], cube[5][1], cube[5][0], cube[4][8], cube[4][5], cube[4][2], cube[2][8], cube[2][7], cube[2][6], cube[1][6], cube[1][3], cube[1][0]\n",
    "        cube[0][0], cube[0][1], cube[0][2], cube[0][3], cube[0][5], cube[0][6], cube[0][7], cube[0][8] = cube[0][8], cube[0][7], cube[0][6], cube[0][5], cube[0][3], cube[0][2], cube[0][1], cube[0][0]\n",
    "    elif go == \"R\":\n",
    "        cube[2][2], cube[2][5], cube[2][8], cube[3][0], cube[3][3], cube[3][6], cube[5][2], cube[5][5], cube[5][8], cube[0][2], cube[0][5], cube[0][8] = cube[0][2], cube[0][5], cube[0][8], cube[2][8], cube[2][5], cube[2][2], cube[3][6], cube[3][3], cube[3][0], cube[5][2], cube[5][5], cube[5][5]\n",
    "        cube[1][0], cube[1][1], cube[1][2], cube[1][3], cube[1][5], cube[1][6], cube[1][7], cube[1][8] = cube[1][6], cube[1][3], cube[1][0], cube[1][7], cube[1][1], cube[1][8], cube[1][5], cube[1][2]  \n",
    "    elif go == \"R'\":\n",
    "        cube[2][2], cube[2][5], cube[2][8], cube[3][0], cube[3][3], cube[3][6], cube[5][2], cube[5][5], cube[5][8], cube[0][2], cube[0][5], cube[0][8] = cube[3][6], cube[3][3], cube[3][0], cube[5][8], cube[5][5], cube[5][2], cube[0][2], cube[0][5], cube[0][8], cube[2][2], cube[2][5], cube[2][5]\n",
    "        cube[1][0], cube[1][1], cube[1][2], cube[1][3], cube[1][5], cube[1][6], cube[1][7], cube[1][8] = cube[1][2], cube[1][5], cube[1][8], cube[1][1], cube[1][7], cube[1][0], cube[1][3], cube[1][6]  \n",
    "    elif go ==\"R2\":\n",
    "        cube[2][2], cube[2][5], cube[2][8], cube[3][0], cube[3][3], cube[3][6], cube[5][2], cube[5][5], cube[5][8], cube[0][2], cube[0][5], cube[0][8] = cube[5][2], cube[5][5], cube[5][8], cube[0][8], cube[0][5], cube[0][2], cube[2][2], cube[2][5], cube[2][8], cube[3][6], cube[3][3], cube[3][0]\n",
    "        cube[1][0], cube[1][1], cube[1][2], cube[1][3], cube[1][5], cube[1][6], cube[1][7], cube[1][8] = cube[1][8], cube[1][7], cube[1][6], cube[1][5], cube[1][3], cube[1][2], cube[1][1], cube[1][0]\n",
    "\n",
    "       "
   ]
  },
  {
   "cell_type": "code",
   "execution_count": null,
   "metadata": {},
   "outputs": [],
   "source": []
  }
 ],
 "metadata": {
  "kernelspec": {
   "display_name": "Python 3",
   "language": "python",
   "name": "python3"
  },
  "language_info": {
   "codemirror_mode": {
    "name": "ipython",
    "version": 3
   },
   "file_extension": ".py",
   "mimetype": "text/x-python",
   "name": "python",
   "nbconvert_exporter": "python",
   "pygments_lexer": "ipython3",
   "version": "3.7.4"
  }
 },
 "nbformat": 4,
 "nbformat_minor": 2
}
